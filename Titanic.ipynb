{
 "cells": [
  {
   "cell_type": "markdown",
   "metadata": {
    "application/vnd.databricks.v1+cell": {
     "cellMetadata": {},
     "inputWidgets": {},
     "nuid": "6df0685f-24bd-4884-a202-28e746072581",
     "showTitle": false,
     "title": ""
    }
   },
   "source": [
    "## Titanic dataset processing\n",
    "\n",
    "```\n",
    "TD:\n",
    "Fare-outlierit (+ plottien koko)\n",
    "Cleanup ylemmäs rakenteessa?\n",
    "```"
   ]
  },
  {
   "cell_type": "code",
   "execution_count": 2,
   "metadata": {
    "application/vnd.databricks.v1+cell": {
     "cellMetadata": {
      "byteLimit": 2048000,
      "rowLimit": 10000
     },
     "inputWidgets": {},
     "nuid": "c111eaca-6e79-4289-b605-39146bd2bb9b",
     "showTitle": false,
     "title": ""
    }
   },
   "outputs": [],
   "source": [
    "import warnings\n",
    "warnings.simplefilter(action='ignore', category=FutureWarning)\n",
    "\n",
    "import pandas as pd\n",
    "import numpy as np\n",
    "import matplotlib.pyplot as plt\n",
    "import seaborn as sns\n",
    "from scipy import stats\n",
    "from sklearn.linear_model import LogisticRegression\n",
    "\n",
    "sns.set_theme(rc={'figure.figsize':(5,4)})"
   ]
  },
  {
   "cell_type": "code",
   "execution_count": 3,
   "metadata": {
    "application/vnd.databricks.v1+cell": {
     "cellMetadata": {
      "byteLimit": 2048000,
      "implicitDf": true,
      "rowLimit": 10000
     },
     "inputWidgets": {},
     "nuid": "343c612f-6cc6-4fd5-b3e9-054979882085",
     "showTitle": false,
     "title": ""
    }
   },
   "outputs": [
    {
     "data": {
      "text/html": [
       "<div>\n",
       "<style scoped>\n",
       "    .dataframe tbody tr th:only-of-type {\n",
       "        vertical-align: middle;\n",
       "    }\n",
       "\n",
       "    .dataframe tbody tr th {\n",
       "        vertical-align: top;\n",
       "    }\n",
       "\n",
       "    .dataframe thead th {\n",
       "        text-align: right;\n",
       "    }\n",
       "</style>\n",
       "<table border=\"1\" class=\"dataframe\">\n",
       "  <thead>\n",
       "    <tr style=\"text-align: right;\">\n",
       "      <th></th>\n",
       "      <th>PassengerId</th>\n",
       "      <th>Survived</th>\n",
       "      <th>Pclass</th>\n",
       "      <th>Name</th>\n",
       "      <th>Sex</th>\n",
       "      <th>Age</th>\n",
       "      <th>SibSp</th>\n",
       "      <th>Parch</th>\n",
       "      <th>Ticket</th>\n",
       "      <th>Fare</th>\n",
       "      <th>Cabin</th>\n",
       "      <th>Embarked</th>\n",
       "    </tr>\n",
       "  </thead>\n",
       "  <tbody>\n",
       "    <tr>\n",
       "      <th>0</th>\n",
       "      <td>1</td>\n",
       "      <td>0</td>\n",
       "      <td>3</td>\n",
       "      <td>Braund, Mr. Owen Harris</td>\n",
       "      <td>male</td>\n",
       "      <td>22.0</td>\n",
       "      <td>1</td>\n",
       "      <td>0</td>\n",
       "      <td>A/5 21171</td>\n",
       "      <td>7.2500</td>\n",
       "      <td>NaN</td>\n",
       "      <td>S</td>\n",
       "    </tr>\n",
       "    <tr>\n",
       "      <th>1</th>\n",
       "      <td>2</td>\n",
       "      <td>1</td>\n",
       "      <td>1</td>\n",
       "      <td>Cumings, Mrs. John Bradley (Florence Briggs Th...</td>\n",
       "      <td>female</td>\n",
       "      <td>38.0</td>\n",
       "      <td>1</td>\n",
       "      <td>0</td>\n",
       "      <td>PC 17599</td>\n",
       "      <td>71.2833</td>\n",
       "      <td>C85</td>\n",
       "      <td>C</td>\n",
       "    </tr>\n",
       "    <tr>\n",
       "      <th>2</th>\n",
       "      <td>3</td>\n",
       "      <td>1</td>\n",
       "      <td>3</td>\n",
       "      <td>Heikkinen, Miss. Laina</td>\n",
       "      <td>female</td>\n",
       "      <td>26.0</td>\n",
       "      <td>0</td>\n",
       "      <td>0</td>\n",
       "      <td>STON/O2. 3101282</td>\n",
       "      <td>7.9250</td>\n",
       "      <td>NaN</td>\n",
       "      <td>S</td>\n",
       "    </tr>\n",
       "    <tr>\n",
       "      <th>3</th>\n",
       "      <td>4</td>\n",
       "      <td>1</td>\n",
       "      <td>1</td>\n",
       "      <td>Futrelle, Mrs. Jacques Heath (Lily May Peel)</td>\n",
       "      <td>female</td>\n",
       "      <td>35.0</td>\n",
       "      <td>1</td>\n",
       "      <td>0</td>\n",
       "      <td>113803</td>\n",
       "      <td>53.1000</td>\n",
       "      <td>C123</td>\n",
       "      <td>S</td>\n",
       "    </tr>\n",
       "    <tr>\n",
       "      <th>4</th>\n",
       "      <td>5</td>\n",
       "      <td>0</td>\n",
       "      <td>3</td>\n",
       "      <td>Allen, Mr. William Henry</td>\n",
       "      <td>male</td>\n",
       "      <td>35.0</td>\n",
       "      <td>0</td>\n",
       "      <td>0</td>\n",
       "      <td>373450</td>\n",
       "      <td>8.0500</td>\n",
       "      <td>NaN</td>\n",
       "      <td>S</td>\n",
       "    </tr>\n",
       "    <tr>\n",
       "      <th>5</th>\n",
       "      <td>6</td>\n",
       "      <td>0</td>\n",
       "      <td>3</td>\n",
       "      <td>Moran, Mr. James</td>\n",
       "      <td>male</td>\n",
       "      <td>NaN</td>\n",
       "      <td>0</td>\n",
       "      <td>0</td>\n",
       "      <td>330877</td>\n",
       "      <td>8.4583</td>\n",
       "      <td>NaN</td>\n",
       "      <td>Q</td>\n",
       "    </tr>\n",
       "    <tr>\n",
       "      <th>6</th>\n",
       "      <td>7</td>\n",
       "      <td>0</td>\n",
       "      <td>1</td>\n",
       "      <td>McCarthy, Mr. Timothy J</td>\n",
       "      <td>male</td>\n",
       "      <td>54.0</td>\n",
       "      <td>0</td>\n",
       "      <td>0</td>\n",
       "      <td>17463</td>\n",
       "      <td>51.8625</td>\n",
       "      <td>E46</td>\n",
       "      <td>S</td>\n",
       "    </tr>\n",
       "    <tr>\n",
       "      <th>7</th>\n",
       "      <td>8</td>\n",
       "      <td>0</td>\n",
       "      <td>3</td>\n",
       "      <td>Palsson, Master. Gosta Leonard</td>\n",
       "      <td>male</td>\n",
       "      <td>2.0</td>\n",
       "      <td>3</td>\n",
       "      <td>1</td>\n",
       "      <td>349909</td>\n",
       "      <td>21.0750</td>\n",
       "      <td>NaN</td>\n",
       "      <td>S</td>\n",
       "    </tr>\n",
       "    <tr>\n",
       "      <th>8</th>\n",
       "      <td>9</td>\n",
       "      <td>1</td>\n",
       "      <td>3</td>\n",
       "      <td>Johnson, Mrs. Oscar W (Elisabeth Vilhelmina Berg)</td>\n",
       "      <td>female</td>\n",
       "      <td>27.0</td>\n",
       "      <td>0</td>\n",
       "      <td>2</td>\n",
       "      <td>347742</td>\n",
       "      <td>11.1333</td>\n",
       "      <td>NaN</td>\n",
       "      <td>S</td>\n",
       "    </tr>\n",
       "    <tr>\n",
       "      <th>9</th>\n",
       "      <td>10</td>\n",
       "      <td>1</td>\n",
       "      <td>2</td>\n",
       "      <td>Nasser, Mrs. Nicholas (Adele Achem)</td>\n",
       "      <td>female</td>\n",
       "      <td>14.0</td>\n",
       "      <td>1</td>\n",
       "      <td>0</td>\n",
       "      <td>237736</td>\n",
       "      <td>30.0708</td>\n",
       "      <td>NaN</td>\n",
       "      <td>C</td>\n",
       "    </tr>\n",
       "    <tr>\n",
       "      <th>10</th>\n",
       "      <td>11</td>\n",
       "      <td>1</td>\n",
       "      <td>3</td>\n",
       "      <td>Sandstrom, Miss. Marguerite Rut</td>\n",
       "      <td>female</td>\n",
       "      <td>4.0</td>\n",
       "      <td>1</td>\n",
       "      <td>1</td>\n",
       "      <td>PP 9549</td>\n",
       "      <td>16.7000</td>\n",
       "      <td>G6</td>\n",
       "      <td>S</td>\n",
       "    </tr>\n",
       "    <tr>\n",
       "      <th>11</th>\n",
       "      <td>12</td>\n",
       "      <td>1</td>\n",
       "      <td>1</td>\n",
       "      <td>Bonnell, Miss. Elizabeth</td>\n",
       "      <td>female</td>\n",
       "      <td>58.0</td>\n",
       "      <td>0</td>\n",
       "      <td>0</td>\n",
       "      <td>113783</td>\n",
       "      <td>26.5500</td>\n",
       "      <td>C103</td>\n",
       "      <td>S</td>\n",
       "    </tr>\n",
       "    <tr>\n",
       "      <th>12</th>\n",
       "      <td>13</td>\n",
       "      <td>0</td>\n",
       "      <td>3</td>\n",
       "      <td>Saundercock, Mr. William Henry</td>\n",
       "      <td>male</td>\n",
       "      <td>20.0</td>\n",
       "      <td>0</td>\n",
       "      <td>0</td>\n",
       "      <td>A/5. 2151</td>\n",
       "      <td>8.0500</td>\n",
       "      <td>NaN</td>\n",
       "      <td>S</td>\n",
       "    </tr>\n",
       "    <tr>\n",
       "      <th>13</th>\n",
       "      <td>14</td>\n",
       "      <td>0</td>\n",
       "      <td>3</td>\n",
       "      <td>Andersson, Mr. Anders Johan</td>\n",
       "      <td>male</td>\n",
       "      <td>39.0</td>\n",
       "      <td>1</td>\n",
       "      <td>5</td>\n",
       "      <td>347082</td>\n",
       "      <td>31.2750</td>\n",
       "      <td>NaN</td>\n",
       "      <td>S</td>\n",
       "    </tr>\n",
       "    <tr>\n",
       "      <th>14</th>\n",
       "      <td>15</td>\n",
       "      <td>0</td>\n",
       "      <td>3</td>\n",
       "      <td>Vestrom, Miss. Hulda Amanda Adolfina</td>\n",
       "      <td>female</td>\n",
       "      <td>14.0</td>\n",
       "      <td>0</td>\n",
       "      <td>0</td>\n",
       "      <td>350406</td>\n",
       "      <td>7.8542</td>\n",
       "      <td>NaN</td>\n",
       "      <td>S</td>\n",
       "    </tr>\n",
       "    <tr>\n",
       "      <th>15</th>\n",
       "      <td>16</td>\n",
       "      <td>1</td>\n",
       "      <td>2</td>\n",
       "      <td>Hewlett, Mrs. (Mary D Kingcome)</td>\n",
       "      <td>female</td>\n",
       "      <td>55.0</td>\n",
       "      <td>0</td>\n",
       "      <td>0</td>\n",
       "      <td>248706</td>\n",
       "      <td>16.0000</td>\n",
       "      <td>NaN</td>\n",
       "      <td>S</td>\n",
       "    </tr>\n",
       "    <tr>\n",
       "      <th>16</th>\n",
       "      <td>17</td>\n",
       "      <td>0</td>\n",
       "      <td>3</td>\n",
       "      <td>Rice, Master. Eugene</td>\n",
       "      <td>male</td>\n",
       "      <td>2.0</td>\n",
       "      <td>4</td>\n",
       "      <td>1</td>\n",
       "      <td>382652</td>\n",
       "      <td>29.1250</td>\n",
       "      <td>NaN</td>\n",
       "      <td>Q</td>\n",
       "    </tr>\n",
       "    <tr>\n",
       "      <th>17</th>\n",
       "      <td>18</td>\n",
       "      <td>1</td>\n",
       "      <td>2</td>\n",
       "      <td>Williams, Mr. Charles Eugene</td>\n",
       "      <td>male</td>\n",
       "      <td>NaN</td>\n",
       "      <td>0</td>\n",
       "      <td>0</td>\n",
       "      <td>244373</td>\n",
       "      <td>13.0000</td>\n",
       "      <td>NaN</td>\n",
       "      <td>S</td>\n",
       "    </tr>\n",
       "    <tr>\n",
       "      <th>18</th>\n",
       "      <td>19</td>\n",
       "      <td>0</td>\n",
       "      <td>3</td>\n",
       "      <td>Vander Planke, Mrs. Julius (Emelia Maria Vande...</td>\n",
       "      <td>female</td>\n",
       "      <td>31.0</td>\n",
       "      <td>1</td>\n",
       "      <td>0</td>\n",
       "      <td>345763</td>\n",
       "      <td>18.0000</td>\n",
       "      <td>NaN</td>\n",
       "      <td>S</td>\n",
       "    </tr>\n",
       "    <tr>\n",
       "      <th>19</th>\n",
       "      <td>20</td>\n",
       "      <td>1</td>\n",
       "      <td>3</td>\n",
       "      <td>Masselmani, Mrs. Fatima</td>\n",
       "      <td>female</td>\n",
       "      <td>NaN</td>\n",
       "      <td>0</td>\n",
       "      <td>0</td>\n",
       "      <td>2649</td>\n",
       "      <td>7.2250</td>\n",
       "      <td>NaN</td>\n",
       "      <td>C</td>\n",
       "    </tr>\n",
       "  </tbody>\n",
       "</table>\n",
       "</div>"
      ],
      "text/plain": [
       "    PassengerId  Survived  Pclass  \\\n",
       "0             1         0       3   \n",
       "1             2         1       1   \n",
       "2             3         1       3   \n",
       "3             4         1       1   \n",
       "4             5         0       3   \n",
       "5             6         0       3   \n",
       "6             7         0       1   \n",
       "7             8         0       3   \n",
       "8             9         1       3   \n",
       "9            10         1       2   \n",
       "10           11         1       3   \n",
       "11           12         1       1   \n",
       "12           13         0       3   \n",
       "13           14         0       3   \n",
       "14           15         0       3   \n",
       "15           16         1       2   \n",
       "16           17         0       3   \n",
       "17           18         1       2   \n",
       "18           19         0       3   \n",
       "19           20         1       3   \n",
       "\n",
       "                                                 Name     Sex   Age  SibSp  \\\n",
       "0                             Braund, Mr. Owen Harris    male  22.0      1   \n",
       "1   Cumings, Mrs. John Bradley (Florence Briggs Th...  female  38.0      1   \n",
       "2                              Heikkinen, Miss. Laina  female  26.0      0   \n",
       "3        Futrelle, Mrs. Jacques Heath (Lily May Peel)  female  35.0      1   \n",
       "4                            Allen, Mr. William Henry    male  35.0      0   \n",
       "5                                    Moran, Mr. James    male   NaN      0   \n",
       "6                             McCarthy, Mr. Timothy J    male  54.0      0   \n",
       "7                      Palsson, Master. Gosta Leonard    male   2.0      3   \n",
       "8   Johnson, Mrs. Oscar W (Elisabeth Vilhelmina Berg)  female  27.0      0   \n",
       "9                 Nasser, Mrs. Nicholas (Adele Achem)  female  14.0      1   \n",
       "10                    Sandstrom, Miss. Marguerite Rut  female   4.0      1   \n",
       "11                           Bonnell, Miss. Elizabeth  female  58.0      0   \n",
       "12                     Saundercock, Mr. William Henry    male  20.0      0   \n",
       "13                        Andersson, Mr. Anders Johan    male  39.0      1   \n",
       "14               Vestrom, Miss. Hulda Amanda Adolfina  female  14.0      0   \n",
       "15                   Hewlett, Mrs. (Mary D Kingcome)   female  55.0      0   \n",
       "16                               Rice, Master. Eugene    male   2.0      4   \n",
       "17                       Williams, Mr. Charles Eugene    male   NaN      0   \n",
       "18  Vander Planke, Mrs. Julius (Emelia Maria Vande...  female  31.0      1   \n",
       "19                            Masselmani, Mrs. Fatima  female   NaN      0   \n",
       "\n",
       "    Parch            Ticket     Fare Cabin Embarked  \n",
       "0       0         A/5 21171   7.2500   NaN        S  \n",
       "1       0          PC 17599  71.2833   C85        C  \n",
       "2       0  STON/O2. 3101282   7.9250   NaN        S  \n",
       "3       0            113803  53.1000  C123        S  \n",
       "4       0            373450   8.0500   NaN        S  \n",
       "5       0            330877   8.4583   NaN        Q  \n",
       "6       0             17463  51.8625   E46        S  \n",
       "7       1            349909  21.0750   NaN        S  \n",
       "8       2            347742  11.1333   NaN        S  \n",
       "9       0            237736  30.0708   NaN        C  \n",
       "10      1           PP 9549  16.7000    G6        S  \n",
       "11      0            113783  26.5500  C103        S  \n",
       "12      0         A/5. 2151   8.0500   NaN        S  \n",
       "13      5            347082  31.2750   NaN        S  \n",
       "14      0            350406   7.8542   NaN        S  \n",
       "15      0            248706  16.0000   NaN        S  \n",
       "16      1            382652  29.1250   NaN        Q  \n",
       "17      0            244373  13.0000   NaN        S  \n",
       "18      0            345763  18.0000   NaN        S  \n",
       "19      0              2649   7.2250   NaN        C  "
      ]
     },
     "metadata": {},
     "output_type": "display_data"
    }
   ],
   "source": [
    "# train_data = spark.sql('SELECT * FROM kayttaja_teemu_rama.tt_train').toPandas()\n",
    "train_data = pd.read_csv('train.csv', sep=\";\")\n",
    "display(train_data.iloc[:20,:])"
   ]
  },
  {
   "cell_type": "markdown",
   "metadata": {
    "application/vnd.databricks.v1+cell": {
     "cellMetadata": {},
     "inputWidgets": {},
     "nuid": "04285e93-5db9-4bad-a966-5133e51aee57",
     "showTitle": false,
     "title": ""
    }
   },
   "source": [
    "###Data exploration and descriptive visualizations"
   ]
  },
  {
   "cell_type": "code",
   "execution_count": 10,
   "metadata": {
    "application/vnd.databricks.v1+cell": {
     "cellMetadata": {
      "byteLimit": 2048000,
      "rowLimit": 10000
     },
     "inputWidgets": {},
     "nuid": "7032b461-e6bd-4914-a95c-bab8ba4a209b",
     "showTitle": false,
     "title": ""
    }
   },
   "outputs": [
    {
     "name": "stdout",
     "output_type": "stream",
     "text": [
      "Shape: (891, 12)\n",
      "\n",
      "Numerical columns: ['PassengerId', 'Survived', 'Pclass', 'Age', 'SibSp', 'Parch', 'Fare'], non-numerical columns: ['Name' 'Sex' 'Ticket' 'Cabin' 'Embarked']\n",
      "\n",
      "Identifying categorical columns with less than ten levels:\n",
      "Survived [0 1]\n",
      "Pclass [3 1 2]\n",
      "Sex ['male' 'female']\n",
      "SibSp [1 0 3 4 2 5 8]\n",
      "Parch [0 1 2 5 3 4 6]\n",
      "Embarked ['S' 'C' 'Q' nan]\n",
      "\n",
      "PassengerId duplicates: 0\n",
      "\n",
      "Nulls:\n",
      "Survived      0\n",
      "Pclass        0\n",
      "Name          0\n",
      "Sex           0\n",
      "Age         177\n",
      "SibSp         0\n",
      "Parch         0\n",
      "Ticket        0\n",
      "Fare          0\n",
      "Cabin       687\n",
      "Embarked      2\n",
      "dtype: int64\n",
      "\n",
      "NaN's:\n",
      "Survived      0\n",
      "Pclass        0\n",
      "Name          0\n",
      "Sex           0\n",
      "Age         177\n",
      "SibSp         0\n",
      "Parch         0\n",
      "Ticket        0\n",
      "Fare          0\n",
      "Cabin       687\n",
      "Embarked      2\n",
      "dtype: int64\n",
      "\n",
      "Passenger age median: 28.0, mean: 29.7, stdev: 14.53\n",
      "\n"
     ]
    },
    {
     "data": {
      "image/png": "[encoded data removed]",
      "text/plain": [
       "<Figure size 800x600 with 4 Axes>"
      ]
     },
     "metadata": {},
     "output_type": "display_data"
    },
    {
     "name": "stdout",
     "output_type": "stream",
     "text": [
      "Embarked\n",
      "C    168\n",
      "Q     77\n",
      "S    644\n",
      "Name: Embarked, dtype: int64\n"
     ]
    }
   ],
   "source": [
    "# train_data = spark.sql('SELECT * FROM kayttaja_teemu_rama.tt_train').toPandas()\n",
    "train_data = pd.read_csv('train.csv', sep=\";\")\n",
    "\n",
    "print(f\"Shape: {train_data.shape}\\n\")\n",
    "print(f\"Numerical columns: {train_data.select_dtypes(include='number').columns.to_list()}, non-numerical columns: {train_data.columns.values[~np.isin(train_data.columns.values,train_data.select_dtypes(include='number').columns.to_list())]}\\n\")\n",
    "\n",
    "print(f\"Identifying categorical columns with less than ten levels:\")\n",
    "\n",
    "categorical = [train_data[col].nunique() < 10 for col in train_data.columns]\n",
    "for col in train_data[train_data.columns[categorical]]:\n",
    "    print(col, train_data[col].unique())\n",
    "print()\n",
    "\n",
    "# Check for PassengerId duplicates:\n",
    "\n",
    "print(f\"PassengerId duplicates: {len(train_data['PassengerId'])-len(train_data['PassengerId'].drop_duplicates())}\\n\")\n",
    "train_data = train_data.set_index('PassengerId', drop=True)\n",
    "\n",
    "# Nulls per column:\n",
    "\n",
    "print(f\"Nulls:\\n{train_data.isnull().sum()}\\n\")\n",
    "print(f\"NaN's:\\n{train_data.isna().sum()}\\n\")\n",
    "\n",
    "# Passenger age:\n",
    "\n",
    "print(f\"Passenger age median: {train_data['Age'].median()}, mean: {round(train_data['Age'].mean(), 2)}, stdev: {round(train_data['Age'].std(), 2)}\\n\")\n",
    "\n",
    "# Ikä histogrammina, lähtösatama, hyttiluokka, selviytyneiden määrä\n",
    "\n",
    "fig, axs = plt.subplots(2,2, figsize=(8,6))\n",
    "sns.histplot(data=train_data, x=\"Age\", color=\"b\", ax=axs[0,0])\n",
    "axs[0,0].set_title('Passenger ages')\n",
    "sns.countplot(data=train_data, x='Embarked', ax=axs[0,1])\n",
    "#axs[0,1].hist(train_data[\"Embarked\"])\n",
    "\n",
    "plt.show()\n",
    "\n",
    "print(train_data.groupby('Embarked')['Embarked'].count())\n",
    "\n",
    "# axs[0,1].hist(naiset.sort_values()[:195], bins=25, color='r')\n",
    "# axs[0,1].set_title('Histogrammi / naiset')\n",
    "\n",
    "# sm.qqplot(miehet, line='q', ax=axs[1,0])\n",
    "# axs[1,0].set_title('QQ-plot / miehet')\n",
    "\n",
    "#sns.histplot(data=train_data, x=\"Fare\", color=\"g\", ax=axs_2[0])\n",
    "\n",
    "\n",
    "# x = list(df.value_counts(\"Sex\"))\n",
    "# y1 = df[df[\"Survived\"] == 0].value_counts(\"Sex\").index.to_list()\n",
    "# y2 = df[df[\"Survived\"] == 1].value_counts(\"Sex\").index.to_list()\n",
    "\n",
    "# sns:n displotilla helpompi bar-stack?\n",
    "\n",
    "# plt.bar(y1, x, color=\"r\")\n",
    "# plt.bar(y2, x, color=\"b\")\n",
    "# plt.show()\n",
    "\n",
    "\n",
    "# fig, axs = plt.subplots(2,2, figsize=(10,7))\n",
    "\n",
    "\n",
    "# axs[0,0].set_title('Histogrammi / miehet')\n",
    "\n",
    "\n",
    "# plt.bar(x=list(df.value_counts(\"Sex\").index.values), height=df.value_counts(\"Sex\").to_list())\n",
    "# plt.show()"
   ]
  },
  {
   "cell_type": "markdown",
   "metadata": {
    "application/vnd.databricks.v1+cell": {
     "cellMetadata": {},
     "inputWidgets": {},
     "nuid": "f93aa886-67a7-4701-a1f8-219c31611d9c",
     "showTitle": false,
     "title": ""
    }
   },
   "source": [
    "###Possible correlations between survival and other variables\n",
    "A closer inspection if any of the other variables (e.g. cabin class or port of embarkation) correlated with survival rate"
   ]
  },
  {
   "cell_type": "markdown",
   "metadata": {
    "application/vnd.databricks.v1+cell": {
     "cellMetadata": {},
     "inputWidgets": {},
     "nuid": "4ae6545e-88dc-47f2-beab-296e0c2cfc07",
     "showTitle": false,
     "title": ""
    }
   },
   "source": [
    "###Data cleanup"
   ]
  },
  {
   "cell_type": "code",
   "execution_count": 0,
   "metadata": {
    "application/vnd.databricks.v1+cell": {
     "cellMetadata": {},
     "inputWidgets": {},
     "nuid": "f22caf86-1873-4d01-9bdf-7c7dbbd362d9",
     "showTitle": false,
     "title": ""
    }
   },
   "outputs": [],
   "source": [
    "# Decode \"Sex\" to bool:\n",
    "\n",
    "train_data[\"Sex_bool\"] = train_data[\"Sex\"].replace({'male': 0, 'female': 1})\n",
    "\n",
    "# Deduce column \"Deck\" from \"Cabin\":\n",
    "\n",
    "train_data[\"Deck\"] = train_data[\"Cabin\"].str[0]\n",
    "\n",
    "train_data = train_data[['Pclass', 'Name','Sex', 'Sex_bool', 'Age', 'SibSp','Parch', 'Ticket', 'Fare', 'Deck', 'Cabin', 'Embarked', 'Survived']]"
   ]
  },
  {
   "cell_type": "markdown",
   "metadata": {
    "application/vnd.databricks.v1+cell": {
     "cellMetadata": {},
     "inputWidgets": {},
     "nuid": "25072b5f-c6e8-46cb-a9ec-647e42b01105",
     "showTitle": false,
     "title": ""
    }
   },
   "source": [
    "#### Handling missing values\n",
    "\n",
    "Cabin (and Deck) column has by far the most missing values (687/891, 77 %). As the datatype is str, no median or similar value can be used for filling. These values are (currently) left as-is and not considered as an explanatory variable. Note: predicting deck based on other variables (class?)?\n",
    "\n",
    "Age also has a significant amount of missing values. For these, the median value for age is used to fill those missing.\n",
    "\n",
    "Two dataframes are created: *df_age_dropped* drops all rows with missing value for age. *df_age_median* uses the median to fill these as described."
   ]
  },
  {
   "cell_type": "markdown",
   "metadata": {
    "application/vnd.databricks.v1+cell": {
     "cellMetadata": {},
     "inputWidgets": {},
     "nuid": "23d1b850-a528-427f-a877-64ffe1b5688b",
     "showTitle": false,
     "title": ""
    }
   },
   "source": [
    "####Removing outliers\n",
    "\n",
    "Columns Age and Fare are explored.<br> \n",
    "**Age:** Z-score > 3 returns two passengers (aged 80 and 74). As these ages are plausible, no rows are dropped.<br>\n",
    "**Fare**: 20 rows with fares from 211 to 512 have Z-score > 3. These rows are dropped as the median fare for first class tickets is 60."
   ]
  },
  {
   "cell_type": "code",
   "execution_count": 0,
   "metadata": {
    "application/vnd.databricks.v1+cell": {
     "cellMetadata": {
      "byteLimit": 2048000,
      "rowLimit": 10000
     },
     "inputWidgets": {},
     "nuid": "da765339-d003-4ad4-b1b6-b258b22c394b",
     "showTitle": false,
     "title": ""
    }
   },
   "outputs": [
    {
     "name": "stdout",
     "output_type": "stream",
     "text": [
      "Rows with Age Z-score > 3:\n",
      "\n"
     ]
    },
    {
     "data": {
      "text/html": [
       "<style scoped>\n",
       "  .table-result-container {\n",
       "    max-height: 300px;\n",
       "    overflow: auto;\n",
       "  }\n",
       "  table, th, td {\n",
       "    border: 1px solid black;\n",
       "    border-collapse: collapse;\n",
       "  }\n",
       "  th, td {\n",
       "    padding: 5px;\n",
       "  }\n",
       "  th {\n",
       "    text-align: left;\n",
       "  }\n",
       "</style><div class='table-result-container'><table class='table-result'><thead style='background-color: white'><tr><th>Pclass</th><th>Name</th><th>Sex</th><th>Sex_bool</th><th>Age</th><th>SibSp</th><th>Parch</th><th>Ticket</th><th>Fare</th><th>Deck</th><th>Cabin</th><th>Embarked</th><th>Survived</th></tr></thead><tbody><tr><td>1</td><td>Barkworth, Mr. Algernon Henry Wilson</td><td>male</td><td>0</td><td>80.0</td><td>0</td><td>0</td><td>27042</td><td>30.0</td><td>A</td><td>A23</td><td>S</td><td>1</td></tr><tr><td>3</td><td>Svensson, Mr. Johan</td><td>male</td><td>0</td><td>74.0</td><td>0</td><td>0</td><td>347060</td><td>7.775</td><td>null</td><td>null</td><td>S</td><td>0</td></tr></tbody></table></div>"
      ]
     },
     "metadata": {
      "application/vnd.databricks.v1+output": {
       "addedWidgets": {},
       "aggData": [],
       "aggError": "",
       "aggOverflow": false,
       "aggSchema": [],
       "aggSeriesLimitReached": false,
       "aggType": "",
       "arguments": {},
       "columnCustomDisplayInfos": {},
       "data": [
        [
         1,
         "Barkworth, Mr. Algernon Henry Wilson",
         "male",
         0,
         80,
         0,
         0,
         "27042",
         30,
         "A",
         "A23",
         "S",
         1
        ],
        [
         3,
         "Svensson, Mr. Johan",
         "male",
         0,
         74,
         0,
         0,
         "347060",
         7.775,
         null,
         null,
         "S",
         0
        ]
       ],
       "datasetInfos": [],
       "dbfsResultPath": null,
       "isJsonSchema": true,
       "metadata": {},
       "overflow": false,
       "plotOptions": {
        "customPlotOptions": {},
        "displayType": "table",
        "pivotAggregation": null,
        "pivotColumns": null,
        "xColumns": null,
        "yColumns": null
       },
       "removedWidgets": [],
       "schema": [
        {
         "metadata": "{}",
         "name": "Pclass",
         "type": "\"long\""
        },
        {
         "metadata": "{}",
         "name": "Name",
         "type": "\"string\""
        },
        {
         "metadata": "{}",
         "name": "Sex",
         "type": "\"string\""
        },
        {
         "metadata": "{}",
         "name": "Sex_bool",
         "type": "\"long\""
        },
        {
         "metadata": "{}",
         "name": "Age",
         "type": "\"double\""
        },
        {
         "metadata": "{}",
         "name": "SibSp",
         "type": "\"long\""
        },
        {
         "metadata": "{}",
         "name": "Parch",
         "type": "\"long\""
        },
        {
         "metadata": "{}",
         "name": "Ticket",
         "type": "\"string\""
        },
        {
         "metadata": "{}",
         "name": "Fare",
         "type": "\"double\""
        },
        {
         "metadata": "{}",
         "name": "Deck",
         "type": "\"string\""
        },
        {
         "metadata": "{}",
         "name": "Cabin",
         "type": "\"string\""
        },
        {
         "metadata": "{}",
         "name": "Embarked",
         "type": "\"string\""
        },
        {
         "metadata": "{}",
         "name": "Survived",
         "type": "\"long\""
        }
       ],
       "type": "table"
      }
     },
     "output_type": "display_data"
    },
    {
     "name": "stdout",
     "output_type": "stream",
     "text": [
      "Median fare for first class tickets: 60.29\n",
      "\n",
      "Rows with Fare Z-score > 3:\n",
      "\n"
     ]
    },
    {
     "data": {
      "text/html": [
       "<style scoped>\n",
       "  .table-result-container {\n",
       "    max-height: 300px;\n",
       "    overflow: auto;\n",
       "  }\n",
       "  table, th, td {\n",
       "    border: 1px solid black;\n",
       "    border-collapse: collapse;\n",
       "  }\n",
       "  th, td {\n",
       "    padding: 5px;\n",
       "  }\n",
       "  th {\n",
       "    text-align: left;\n",
       "  }\n",
       "</style><div class='table-result-container'><table class='table-result'><thead style='background-color: white'><tr><th>Pclass</th><th>Name</th><th>Sex</th><th>Sex_bool</th><th>Age</th><th>SibSp</th><th>Parch</th><th>Ticket</th><th>Fare</th><th>Deck</th><th>Cabin</th><th>Embarked</th><th>Survived</th></tr></thead><tbody><tr><td>1</td><td>Fortune, Mr. Charles Alexander</td><td>male</td><td>0</td><td>19.0</td><td>3</td><td>2</td><td>19950</td><td>263.0</td><td>C</td><td>C23 C25 C27</td><td>S</td><td>0</td></tr><tr><td>1</td><td>Fortune, Miss. Mabel Helen</td><td>female</td><td>1</td><td>23.0</td><td>3</td><td>2</td><td>19950</td><td>263.0</td><td>C</td><td>C23 C25 C27</td><td>S</td><td>1</td></tr><tr><td>1</td><td>Baxter, Mr. Quigg Edmond</td><td>male</td><td>0</td><td>24.0</td><td>0</td><td>1</td><td>PC 17558</td><td>247.5208</td><td>B</td><td>B58 B60</td><td>C</td><td>0</td></tr><tr><td>1</td><td>Ward, Miss. Anna</td><td>female</td><td>1</td><td>35.0</td><td>0</td><td>0</td><td>PC 17755</td><td>512.3292</td><td>null</td><td>null</td><td>C</td><td>1</td></tr><tr><td>1</td><td>Baxter, Mrs. James (Helene DeLaudeniere Chaput)</td><td>female</td><td>1</td><td>50.0</td><td>0</td><td>1</td><td>PC 17558</td><td>247.5208</td><td>B</td><td>B58 B60</td><td>C</td><td>1</td></tr><tr><td>1</td><td>Ryerson, Miss. Emily Borie</td><td>female</td><td>1</td><td>18.0</td><td>2</td><td>2</td><td>PC 17608</td><td>262.375</td><td>B</td><td>B57 B59 B63 B66</td><td>C</td><td>1</td></tr><tr><td>1</td><td>Fortune, Miss. Alice Elizabeth</td><td>female</td><td>1</td><td>24.0</td><td>3</td><td>2</td><td>19950</td><td>263.0</td><td>C</td><td>C23 C25 C27</td><td>S</td><td>1</td></tr><tr><td>1</td><td>Widener, Mr. Harry Elkins</td><td>male</td><td>0</td><td>27.0</td><td>0</td><td>2</td><td>113503</td><td>211.5</td><td>C</td><td>C82</td><td>C</td><td>0</td></tr><tr><td>1</td><td>Bidois, Miss. Rosalie</td><td>female</td><td>1</td><td>42.0</td><td>0</td><td>0</td><td>PC 17757</td><td>227.525</td><td>null</td><td>null</td><td>C</td><td>1</td></tr><tr><td>1</td><td>Fortune, Mr. Mark</td><td>male</td><td>0</td><td>64.0</td><td>1</td><td>4</td><td>19950</td><td>263.0</td><td>C</td><td>C23 C25 C27</td><td>S</td><td>0</td></tr><tr><td>1</td><td>Farthing, Mr. John</td><td>male</td><td>0</td><td>NaN</td><td>0</td><td>0</td><td>PC 17483</td><td>221.7792</td><td>C</td><td>C95</td><td>S</td><td>0</td></tr><tr><td>1</td><td>Robbins, Mr. Victor</td><td>male</td><td>0</td><td>NaN</td><td>0</td><td>0</td><td>PC 17757</td><td>227.525</td><td>null</td><td>null</td><td>C</td><td>0</td></tr><tr><td>1</td><td>Cardeza, Mr. Thomas Drake Martinez</td><td>male</td><td>0</td><td>36.0</td><td>0</td><td>1</td><td>PC 17755</td><td>512.3292</td><td>B</td><td>B51 B53 B55</td><td>C</td><td>1</td></tr><tr><td>1</td><td>Madill, Miss. Georgette Alexandra</td><td>female</td><td>1</td><td>15.0</td><td>0</td><td>1</td><td>24160</td><td>211.3375</td><td>B</td><td>B5</td><td>S</td><td>1</td></tr><tr><td>1</td><td>Astor, Mrs. John Jacob (Madeleine Talmadge Force)</td><td>female</td><td>1</td><td>18.0</td><td>1</td><td>0</td><td>PC 17757</td><td>227.525</td><td>C</td><td>C62 C64</td><td>C</td><td>1</td></tr><tr><td>1</td><td>Endres, Miss. Caroline Louise</td><td>female</td><td>1</td><td>38.0</td><td>0</td><td>0</td><td>PC 17757</td><td>227.525</td><td>C</td><td>C45</td><td>C</td><td>1</td></tr><tr><td>1</td><td>Allen, Miss. Elisabeth Walton</td><td>female</td><td>1</td><td>29.0</td><td>0</td><td>0</td><td>24160</td><td>211.3375</td><td>B</td><td>B5</td><td>S</td><td>1</td></tr><tr><td>1</td><td>Lesurer, Mr. Gustave J</td><td>male</td><td>0</td><td>35.0</td><td>0</td><td>0</td><td>PC 17755</td><td>512.3292</td><td>B</td><td>B101</td><td>C</td><td>1</td></tr><tr><td>1</td><td>Ryerson, Miss. Susan Parker \"Suzette\"</td><td>female</td><td>1</td><td>21.0</td><td>2</td><td>2</td><td>PC 17608</td><td>262.375</td><td>B</td><td>B57 B59 B63 B66</td><td>C</td><td>1</td></tr><tr><td>1</td><td>Robert, Mrs. Edward Scott (Elisabeth Walton McMillan)</td><td>female</td><td>1</td><td>43.0</td><td>0</td><td>1</td><td>24160</td><td>211.3375</td><td>B</td><td>B3</td><td>S</td><td>1</td></tr></tbody></table></div>"
      ]
     },
     "metadata": {
      "application/vnd.databricks.v1+output": {
       "addedWidgets": {},
       "aggData": [],
       "aggError": "",
       "aggOverflow": false,
       "aggSchema": [],
       "aggSeriesLimitReached": false,
       "aggType": "",
       "arguments": {},
       "columnCustomDisplayInfos": {},
       "data": [
        [
         1,
         "Fortune, Mr. Charles Alexander",
         "male",
         0,
         19,
         3,
         2,
         "19950",
         263,
         "C",
         "C23 C25 C27",
         "S",
         0
        ],
        [
         1,
         "Fortune, Miss. Mabel Helen",
         "female",
         1,
         23,
         3,
         2,
         "19950",
         263,
         "C",
         "C23 C25 C27",
         "S",
         1
        ],
        [
         1,
         "Baxter, Mr. Quigg Edmond",
         "male",
         0,
         24,
         0,
         1,
         "PC 17558",
         247.5208,
         "B",
         "B58 B60",
         "C",
         0
        ],
        [
         1,
         "Ward, Miss. Anna",
         "female",
         1,
         35,
         0,
         0,
         "PC 17755",
         512.3292,
         null,
         null,
         "C",
         1
        ],
        [
         1,
         "Baxter, Mrs. James (Helene DeLaudeniere Chaput)",
         "female",
         1,
         50,
         0,
         1,
         "PC 17558",
         247.5208,
         "B",
         "B58 B60",
         "C",
         1
        ],
        [
         1,
         "Ryerson, Miss. Emily Borie",
         "female",
         1,
         18,
         2,
         2,
         "PC 17608",
         262.375,
         "B",
         "B57 B59 B63 B66",
         "C",
         1
        ],
        [
         1,
         "Fortune, Miss. Alice Elizabeth",
         "female",
         1,
         24,
         3,
         2,
         "19950",
         263,
         "C",
         "C23 C25 C27",
         "S",
         1
        ],
        [
         1,
         "Widener, Mr. Harry Elkins",
         "male",
         0,
         27,
         0,
         2,
         "113503",
         211.5,
         "C",
         "C82",
         "C",
         0
        ],
        [
         1,
         "Bidois, Miss. Rosalie",
         "female",
         1,
         42,
         0,
         0,
         "PC 17757",
         227.525,
         null,
         null,
         "C",
         1
        ],
        [
         1,
         "Fortune, Mr. Mark",
         "male",
         0,
         64,
         1,
         4,
         "19950",
         263,
         "C",
         "C23 C25 C27",
         "S",
         0
        ],
        [
         1,
         "Farthing, Mr. John",
         "male",
         0,
         "NaN",
         0,
         0,
         "PC 17483",
         221.7792,
         "C",
         "C95",
         "S",
         0
        ],
        [
         1,
         "Robbins, Mr. Victor",
         "male",
         0,
         "NaN",
         0,
         0,
         "PC 17757",
         227.525,
         null,
         null,
         "C",
         0
        ],
        [
         1,
         "Cardeza, Mr. Thomas Drake Martinez",
         "male",
         0,
         36,
         0,
         1,
         "PC 17755",
         512.3292,
         "B",
         "B51 B53 B55",
         "C",
         1
        ],
        [
         1,
         "Madill, Miss. Georgette Alexandra",
         "female",
         1,
         15,
         0,
         1,
         "24160",
         211.3375,
         "B",
         "B5",
         "S",
         1
        ],
        [
         1,
         "Astor, Mrs. John Jacob (Madeleine Talmadge Force)",
         "female",
         1,
         18,
         1,
         0,
         "PC 17757",
         227.525,
         "C",
         "C62 C64",
         "C",
         1
        ],
        [
         1,
         "Endres, Miss. Caroline Louise",
         "female",
         1,
         38,
         0,
         0,
         "PC 17757",
         227.525,
         "C",
         "C45",
         "C",
         1
        ],
        [
         1,
         "Allen, Miss. Elisabeth Walton",
         "female",
         1,
         29,
         0,
         0,
         "24160",
         211.3375,
         "B",
         "B5",
         "S",
         1
        ],
        [
         1,
         "Lesurer, Mr. Gustave J",
         "male",
         0,
         35,
         0,
         0,
         "PC 17755",
         512.3292,
         "B",
         "B101",
         "C",
         1
        ],
        [
         1,
         "Ryerson, Miss. Susan Parker \"Suzette\"",
         "female",
         1,
         21,
         2,
         2,
         "PC 17608",
         262.375,
         "B",
         "B57 B59 B63 B66",
         "C",
         1
        ],
        [
         1,
         "Robert, Mrs. Edward Scott (Elisabeth Walton McMillan)",
         "female",
         1,
         43,
         0,
         1,
         "24160",
         211.3375,
         "B",
         "B3",
         "S",
         1
        ]
       ],
       "datasetInfos": [],
       "dbfsResultPath": null,
       "isJsonSchema": true,
       "metadata": {},
       "overflow": false,
       "plotOptions": {
        "customPlotOptions": {},
        "displayType": "table",
        "pivotAggregation": null,
        "pivotColumns": null,
        "xColumns": null,
        "yColumns": null
       },
       "removedWidgets": [],
       "schema": [
        {
         "metadata": "{}",
         "name": "Pclass",
         "type": "\"long\""
        },
        {
         "metadata": "{}",
         "name": "Name",
         "type": "\"string\""
        },
        {
         "metadata": "{}",
         "name": "Sex",
         "type": "\"string\""
        },
        {
         "metadata": "{}",
         "name": "Sex_bool",
         "type": "\"long\""
        },
        {
         "metadata": "{}",
         "name": "Age",
         "type": "\"double\""
        },
        {
         "metadata": "{}",
         "name": "SibSp",
         "type": "\"long\""
        },
        {
         "metadata": "{}",
         "name": "Parch",
         "type": "\"long\""
        },
        {
         "metadata": "{}",
         "name": "Ticket",
         "type": "\"string\""
        },
        {
         "metadata": "{}",
         "name": "Fare",
         "type": "\"double\""
        },
        {
         "metadata": "{}",
         "name": "Deck",
         "type": "\"string\""
        },
        {
         "metadata": "{}",
         "name": "Cabin",
         "type": "\"string\""
        },
        {
         "metadata": "{}",
         "name": "Embarked",
         "type": "\"string\""
        },
        {
         "metadata": "{}",
         "name": "Survived",
         "type": "\"long\""
        }
       ],
       "type": "table"
      }
     },
     "output_type": "display_data"
    },
    {
     "data": {
      "image/png": "[encoded data removed]",
      "text/plain": [
       "<Figure size 800x400 with 2 Axes>"
      ]
     },
     "metadata": {},
     "output_type": "display_data"
    },
    {
     "data": {
      "image/png": "[encoded data removed]",
      "text/plain": [
       "<Figure size 800x400 with 2 Axes>"
      ]
     },
     "metadata": {},
     "output_type": "display_data"
    }
   ],
   "source": [
    "fig, axs = plt.subplots(1, 2, figsize=(8,4))\n",
    "fig.suptitle(\"Possible outlier visualization for Age\")\n",
    "sns.histplot(data=train_data, x=\"Age\", color=\"g\", ax=axs[0])\n",
    "sns.boxplot(y=train_data[\"Age\"])\n",
    "\n",
    "age_outliers = train_data[np.abs(stats.zscore(train_data['Age'], nan_policy = 'omit')) > 3]\n",
    "print(\"Rows with Age Z-score > 3:\\n\")\n",
    "display(age_outliers)\n",
    "\n",
    "fig_2, axs_2 = plt.subplots(1, 2, figsize=(8,4))\n",
    "fig_2.suptitle(\"Possible outlier visualization for Fare\")\n",
    "sns.histplot(data=train_data, x=\"Fare\", color=\"g\", ax=axs_2[0])\n",
    "sns.boxplot(y=train_data[\"Fare\"])\n",
    "\n",
    "fare_outliers = train_data[np.abs(stats.zscore(train_data['Fare'], nan_policy = 'omit')) > 3]\n",
    "print(f\"Median fare for first class tickets: {round(np.median(train_data['Fare'][train_data['Pclass'] == 1]), 2)}\\n\")\n",
    "print(\"Rows with Fare Z-score > 3:\\n\")\n",
    "display(fare_outliers)\n"
   ]
  },
  {
   "cell_type": "code",
   "execution_count": 0,
   "metadata": {
    "application/vnd.databricks.v1+cell": {
     "cellMetadata": {},
     "inputWidgets": {},
     "nuid": "375ca832-8ebe-490e-9dec-cf5e928c98c3",
     "showTitle": false,
     "title": ""
    }
   },
   "outputs": [],
   "source": [
    "# Dump:\n",
    "\n",
    "# Tähän subplot histogrammeja ikä, sukupuoli, luokka, kansi?\n",
    "\n",
    "#plt.hist(df[\"Age\"], bins=30)\n",
    "# plt.bar(x=list(df.value_counts(\"Survived\").index.values), height=df.value_counts(\"Survived\").to_list())\n",
    "# plt.show()\n",
    "\n",
    "# Seuraavaan voisi laittaa samoja mutta erotella selviytynyt-statuksen perusteella\n",
    "\n",
    "# Malli:\n",
    "\n",
    "# \n",
    "\n",
    "\n",
    "\n",
    "# axs[0,1].hist(naiset.sort_values()[:195], bins=25, color='r')\n",
    "# axs[0,1].set_title('Histogrammi / naiset')\n",
    "\n",
    "# sm.qqplot(miehet, line='q', ax=axs[1,0])\n",
    "# axs[1,0].set_title('QQ-plot / miehet')\n",
    "\n",
    "# sm.qqplot(naiset, line='q', markerfacecolor='r', markeredgecolor='r', ax=axs[1,1])\n",
    "# axs[1,1].set_title('QQ-plot / naiset')\n",
    "\n",
    "# plt.show()"
   ]
  }
 ],
 "metadata": {
  "application/vnd.databricks.v1+notebook": {
   "dashboards": [],
   "environmentMetadata": {
    "base_environment": "",
    "client": "1"
   },
   "language": "python",
   "notebookMetadata": {
    "mostRecentlyExecutedCommandWithImplicitDF": {
     "commandId": -1,
     "dataframes": [
      "_sqldf"
     ]
    },
    "pythonIndentUnit": 2
   },
   "notebookName": "Titanic",
   "widgets": {}
  },
  "kernelspec": {
   "display_name": "base",
   "language": "python",
   "name": "python3"
  },
  "language_info": {
   "codemirror_mode": {
    "name": "ipython",
    "version": 3
   },
   "file_extension": ".py",
   "mimetype": "text/x-python",
   "name": "python",
   "nbconvert_exporter": "python",
   "pygments_lexer": "ipython3",
   "version": "3.12.5"
  }
 },
 "nbformat": 4,
 "nbformat_minor": 0
}
